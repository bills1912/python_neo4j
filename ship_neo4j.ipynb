{
 "cells": [
  {
   "cell_type": "code",
   "execution_count": 1,
   "metadata": {},
   "outputs": [
    {
     "data": {
      "application/javascript": "var link = document.createElement(\"link\");\n\tlink.ref = \"stylesheet\";\n\tlink.type = \"text/css\";\n\tlink.href = \"https://cdnjs.cloudflare.com/ajax/libs/vis/4.8.2/vis.css\";\n\tdocument.head.appendChild(link);\nrequire.config({     paths: {         vis: '//cdnjs.cloudflare.com/ajax/libs/vis/4.8.2/vis.min'     } }); require(['vis'], function(vis) {  window.vis = vis; }); ",
      "text/plain": [
       "<IPython.core.display.Javascript object>"
      ]
     },
     "metadata": {},
     "output_type": "display_data"
    }
   ],
   "source": [
    "import neo4jupyter\n",
    "# from scripts import \n",
    "from py2neo import Graph\n",
    "from py2neo.matching import NodeMatcher, RelationshipMatcher, RelationshipMatch\n",
    "\n",
    "neo4jupyter.init_notebook_mode()"
   ]
  },
  {
   "attachments": {},
   "cell_type": "markdown",
   "metadata": {},
   "source": [
    "## Connect To Neo4j Database"
   ]
  },
  {
   "cell_type": "code",
   "execution_count": 2,
   "metadata": {},
   "outputs": [],
   "source": [
    "graph = Graph(\"bolt://localhost:7687\", auth=(\"neo4j\", \"Billvanzalukhu1905!@\"))\n",
    "tx = graph.begin()"
   ]
  },
  {
   "attachments": {},
   "cell_type": "markdown",
   "metadata": {},
   "source": [
    "## Get Nodes and Relationships"
   ]
  },
  {
   "attachments": {},
   "cell_type": "markdown",
   "metadata": {},
   "source": [
    "### Ship Database"
   ]
  },
  {
   "cell_type": "code",
   "execution_count": 3,
   "metadata": {},
   "outputs": [
    {
     "name": "stdout",
     "output_type": "stream",
     "text": [
      "[Node('Ship', name='Cargo'), Node('Ship', name='Barge'), Node('Ship', name='Container'), Node('Ship', lng='108.86990', name='Warship'), Node('Ship', lng='108.6348', name='Ferry')]\n",
      "(_4:Utility {name: 'Loads', weight: '40-50 million tonnage'})\n"
     ]
    }
   ],
   "source": [
    "node = NodeMatcher(graph)\n",
    "all_node = node.match(\"Ship\").all()\n",
    "node_withId = node.get(4)\n",
    "\n",
    "print(all_node)\n",
    "print(node_withId)"
   ]
  },
  {
   "cell_type": "code",
   "execution_count": 4,
   "metadata": {},
   "outputs": [
    {
     "data": {
      "text/plain": [
       "[HAVE_LOADS(Node('Ship', lng='108.86990', name='Warship'), Node('Utility', name='Loads', weight='40-50 million tonnage')),\n",
       " HAVE_LOADS(Node('Ship', lng='108.6348', name='Ferry'), Node('Utility', name='Loads', weight='40-50 million tonnage')),\n",
       " SAME_TYPE(Node('Ship', name='Barge'), Node('Ship', name='Container')),\n",
       " NEIGHBOUR_OF(Node('Ship', name='Container'), Node('Ship', name='Barge')),\n",
       " USEFUL_THAN(Node('Ship', lng='108.86990', name='Warship'), Node('Ship', name='Cargo')),\n",
       " HAVE_LOADS(Node('Ship', name='Cargo'), Node('Utility', name='Loads', weight='40-50 million tonnage')),\n",
       " IS_LOAD_OF(Node('Utility', name='Loads', weight='40-50 million tonnage'), Node('Ship', name='Cargo'))]"
      ]
     },
     "execution_count": 4,
     "metadata": {},
     "output_type": "execute_result"
    }
   ],
   "source": [
    "relations = RelationshipMatch(graph)\n",
    "relations.all()"
   ]
  },
  {
   "attachments": {},
   "cell_type": "markdown",
   "metadata": {},
   "source": [
    "### Regsosek Database"
   ]
  },
  {
   "cell_type": "code",
   "execution_count": null,
   "metadata": {},
   "outputs": [],
   "source": [
    "regsosek_node = NodeMatcher(graph)\n",
    "regsosek_node.match(\"Identity\").all()"
   ]
  },
  {
   "cell_type": "code",
   "execution_count": 8,
   "metadata": {},
   "outputs": [
    {
     "data": {
      "text/plain": [
       "2675"
      ]
     },
     "execution_count": 8,
     "metadata": {},
     "output_type": "execute_result"
    }
   ],
   "source": [
    "regsosek_relations = RelationshipMatch(graph)\n",
    "regsosek_relations.count()"
   ]
  },
  {
   "attachments": {},
   "cell_type": "markdown",
   "metadata": {},
   "source": [
    "## Run Cypher Language"
   ]
  },
  {
   "attachments": {},
   "cell_type": "markdown",
   "metadata": {},
   "source": [
    "### Ship Database"
   ]
  },
  {
   "attachments": {},
   "cell_type": "markdown",
   "metadata": {},
   "source": [
    "#### 1. Cypher Code Field"
   ]
  },
  {
   "cell_type": "code",
   "execution_count": 4,
   "metadata": {},
   "outputs": [
    {
     "data": {
      "text/html": [
       "(No data)"
      ],
      "text/plain": [
       "(No data)"
      ]
     },
     "execution_count": 4,
     "metadata": {},
     "output_type": "execute_result"
    }
   ],
   "source": [
    "graph.run(\"create (ferry:Ship {name:'Ferry', lng:'108.6348'});\")"
   ]
  },
  {
   "cell_type": "code",
   "execution_count": 5,
   "metadata": {},
   "outputs": [
    {
     "data": {
      "text/html": [
       "(No data)"
      ],
      "text/plain": [
       "(No data)"
      ]
     },
     "execution_count": 5,
     "metadata": {},
     "output_type": "execute_result"
    }
   ],
   "source": [
    "graph.run(\"match (container), (barge) where container.name='Container' and barge.name='Barge' create (ferry)-[:HAVE_LOADS]->(loads);\")"
   ]
  },
  {
   "attachments": {},
   "cell_type": "markdown",
   "metadata": {},
   "source": [
    "#### 2. Match Node and Relationship"
   ]
  },
  {
   "cell_type": "code",
   "execution_count": 11,
   "metadata": {},
   "outputs": [
    {
     "data": {
      "text/plain": [
       "[Node('Ship', name='Cargo'),\n",
       " Node('Ship', name='Barge'),\n",
       " Node('Ship', name='Container'),\n",
       " Node('Ship', lng='108.86990', name='Warship'),\n",
       " Node('Ship', lng='108.6348', name='Ferry')]"
      ]
     },
     "execution_count": 11,
     "metadata": {},
     "output_type": "execute_result"
    }
   ],
   "source": [
    "node.match(\"Ship\").all()"
   ]
  },
  {
   "cell_type": "code",
   "execution_count": 5,
   "metadata": {},
   "outputs": [
    {
     "data": {
      "text/plain": [
       "[HAVE_LOADS(Node('Ship', lng='108.86990', name='Warship'), Node('Utility', name='Loads', weight='40-50 million tonnage')),\n",
       " HAVE_LOADS(Node('Ship', lng='108.6348', name='Ferry'), Node('Utility', name='Loads', weight='40-50 million tonnage')),\n",
       " SAME_TYPE(Node('Ship', name='Barge'), Node('Ship', name='Container')),\n",
       " NEIGHBOUR_OF(Node('Ship', name='Container'), Node('Ship', name='Barge')),\n",
       " USEFUL_THAN(Node('Ship', lng='108.86990', name='Warship'), Node('Ship', name='Cargo')),\n",
       " HAVE_LOADS(Node('Ship', name='Cargo'), Node('Utility', name='Loads', weight='40-50 million tonnage')),\n",
       " IS_LOAD_OF(Node('Utility', name='Loads', weight='40-50 million tonnage'), Node('Ship', name='Cargo'))]"
      ]
     },
     "execution_count": 5,
     "metadata": {},
     "output_type": "execute_result"
    }
   ],
   "source": [
    "relations.all()"
   ]
  },
  {
   "attachments": {},
   "cell_type": "markdown",
   "metadata": {},
   "source": [
    "## Visualization of Node and Relationship"
   ]
  },
  {
   "cell_type": "code",
   "execution_count": 6,
   "metadata": {},
   "outputs": [
    {
     "data": {
      "text/html": [
       "<div id=\"9fa2f18c-533d-43b0-a115-6dc51e72a27d\" style=\"height: 400px;\"></div>\n",
       "\n",
       "<script type=\"text/javascript\">\n",
       "\n",
       "    var nodes = [{\"id\": 2, \"label\": \"Container\", \"group\": \"Ship\", \"title\": \"Node('Ship', name='Container')\"}, {\"id\": 1, \"label\": \"Barge\", \"group\": \"Ship\", \"title\": \"Node('Ship', name='Barge')\"}, {\"id\": 3, \"label\": \"Warship\", \"group\": \"Ship\", \"title\": \"Node('Ship', lng='108.86990', name='Warship')\"}, {\"id\": 4, \"label\": \"Loads\", \"group\": \"Utility\", \"title\": \"Node('Utility', name='Loads', weight='40-50 million tonnage')\"}, {\"id\": 0, \"label\": \"Cargo\", \"group\": \"Ship\", \"title\": \"Node('Ship', name='Cargo')\"}, {\"id\": 5, \"label\": \"Ferry\", \"group\": \"Ship\", \"title\": \"Node('Ship', lng='108.6348', name='Ferry')\"}];\n",
       "    var edges = [{\"from\": 2, \"to\": 1, \"label\": \"NEIGHBOUR_OF\"}, {\"from\": 3, \"to\": 4, \"label\": \"HAVE_LOADS\"}, {\"from\": 3, \"to\": 0, \"label\": \"USEFUL_THAN\"}, {\"from\": 0, \"to\": 4, \"label\": \"HAVE_LOADS\"}, {\"from\": 1, \"to\": 2, \"label\": \"SAME_TYPE\"}, {\"from\": 4, \"to\": 0, \"label\": \"IS_LOAD_OF\"}, {\"from\": 5, \"to\": 4, \"label\": \"HAVE_LOADS\"}];\n",
       "\n",
       "    var container = document.getElementById(\"9fa2f18c-533d-43b0-a115-6dc51e72a27d\");\n",
       "\n",
       "    var data = {\n",
       "        nodes: nodes,\n",
       "        edges: edges\n",
       "    };\n",
       "\n",
       "    var options = {\n",
       "    nodes: {\n",
       "        shape: 'dot',\n",
       "        size: 25,\n",
       "        font: {\n",
       "            size: 14\n",
       "        }\n",
       "    },\n",
       "    edges: {\n",
       "        font: {\n",
       "            size: 14,\n",
       "            align: 'middle'\n",
       "        },\n",
       "        color: 'gray',\n",
       "        arrows: {\n",
       "            to: {\n",
       "                enabled: true,\n",
       "                scaleFactor: 0.5\n",
       "            }\n",
       "        },\n",
       "        smooth: {\n",
       "            enabled: false\n",
       "        }\n",
       "    },\n",
       "    physics: {\n",
       "        enabled: true\n",
       "        }\n",
       "    };\n",
       "\n",
       "    var network = new vis.Network(container, data, options);\n",
       "\n",
       "</script>\n"
      ],
      "text/plain": [
       "<IPython.core.display.HTML object>"
      ]
     },
     "execution_count": 6,
     "metadata": {},
     "output_type": "execute_result"
    }
   ],
   "source": [
    "neo4jupyter.draw(graph, {\"Ship\":\"name\", \"Utility\":\"name\"})"
   ]
  }
 ],
 "metadata": {
  "kernelspec": {
   "display_name": "Python 3",
   "language": "python",
   "name": "python3"
  },
  "language_info": {
   "codemirror_mode": {
    "name": "ipython",
    "version": 3
   },
   "file_extension": ".py",
   "mimetype": "text/x-python",
   "name": "python",
   "nbconvert_exporter": "python",
   "pygments_lexer": "ipython3",
   "version": "3.9.9"
  },
  "orig_nbformat": 4,
  "vscode": {
   "interpreter": {
    "hash": "11938c6bc6919ae2720b4d5011047913343b08a43b18698fd82dedb0d4417594"
   }
  }
 },
 "nbformat": 4,
 "nbformat_minor": 2
}
