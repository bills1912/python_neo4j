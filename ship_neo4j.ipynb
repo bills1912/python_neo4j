{
 "cells": [
  {
   "cell_type": "code",
   "execution_count": 2,
   "metadata": {},
   "outputs": [],
   "source": [
    "from py2neo import Graph\n",
    "from py2neo.matching import NodeMatcher, RelationshipMatcher, RelationshipMatch"
   ]
  },
  {
   "attachments": {},
   "cell_type": "markdown",
   "metadata": {},
   "source": [
    "## Connect To Neo4j Database"
   ]
  },
  {
   "cell_type": "code",
   "execution_count": 3,
   "metadata": {},
   "outputs": [],
   "source": [
    "graph = Graph(\"bolt://localhost:7687\", auth=(\"neo4j\", \"Billvanzalukhu1905!@\"))\n",
    "tx = graph.begin()"
   ]
  },
  {
   "attachments": {},
   "cell_type": "markdown",
   "metadata": {},
   "source": [
    "## Get Nodes and Relationships"
   ]
  },
  {
   "cell_type": "code",
   "execution_count": 8,
   "metadata": {},
   "outputs": [
    {
     "name": "stdout",
     "output_type": "stream",
     "text": [
      "[Node('Ship', name='Cargo'), Node('Ship', name='Barge'), Node('Ship', name='Container'), Node('Ship', lng='108.86990', name='Warship'), Node('Ship', lng='108.6348', name='Ferry')]\n",
      "(_4:Utility {name: 'Loads', weight: '40-50 million tonnage'})\n"
     ]
    }
   ],
   "source": [
    "node = NodeMatcher(graph)\n",
    "all_node = node.match(\"Ship\").all()\n",
    "node_withId = node.get(4)\n",
    "\n",
    "print(all_node)\n",
    "print(node_withId)"
   ]
  },
  {
   "cell_type": "code",
   "execution_count": 9,
   "metadata": {},
   "outputs": [
    {
     "data": {
      "text/plain": [
       "[HAVE_LOADS(Node('Ship', lng='108.86990', name='Warship'), Node('Utility', name='Loads', weight='40-50 million tonnage')),\n",
       " HAVE_LOADS(Node('Ship', lng='108.6348', name='Ferry'), Node('Utility', name='Loads', weight='40-50 million tonnage')),\n",
       " SAME_TYPE(Node('Ship', name='Barge'), Node('Ship', name='Container')),\n",
       " NEIGHBOUR_OF(Node('Ship', name='Container'), Node('Ship', name='Barge')),\n",
       " USEFUL_THAN(Node('Ship', lng='108.86990', name='Warship'), Node('Ship', name='Cargo')),\n",
       " HAVE_LOADS(Node('Ship', name='Cargo'), Node('Utility', name='Loads', weight='40-50 million tonnage')),\n",
       " IS_LOAD_OF(Node('Utility', name='Loads', weight='40-50 million tonnage'), Node('Ship', name='Cargo'))]"
      ]
     },
     "execution_count": 9,
     "metadata": {},
     "output_type": "execute_result"
    }
   ],
   "source": [
    "relations = RelationshipMatch(graph)\n",
    "relations.all()"
   ]
  },
  {
   "attachments": {},
   "cell_type": "markdown",
   "metadata": {},
   "source": [
    "## Run Cypher Language"
   ]
  },
  {
   "cell_type": "code",
   "execution_count": 4,
   "metadata": {},
   "outputs": [
    {
     "data": {
      "text/html": [
       "(No data)"
      ],
      "text/plain": [
       "(No data)"
      ]
     },
     "execution_count": 4,
     "metadata": {},
     "output_type": "execute_result"
    }
   ],
   "source": [
    "graph.run(\"create (ferry:Ship {name:'Ferry', lng:'108.6348'});\")"
   ]
  },
  {
   "cell_type": "code",
   "execution_count": 5,
   "metadata": {},
   "outputs": [
    {
     "data": {
      "text/html": [
       "(No data)"
      ],
      "text/plain": [
       "(No data)"
      ]
     },
     "execution_count": 5,
     "metadata": {},
     "output_type": "execute_result"
    }
   ],
   "source": [
    "graph.run(\"match (ferry), (loads) where ferry.name='Ferry' and loads.name='Loads' create (ferry)-[:HAVE_LOADS]->(loads);\")"
   ]
  },
  {
   "cell_type": "code",
   "execution_count": 11,
   "metadata": {},
   "outputs": [
    {
     "data": {
      "text/plain": [
       "[Node('Ship', name='Cargo'),\n",
       " Node('Ship', name='Barge'),\n",
       " Node('Ship', name='Container'),\n",
       " Node('Ship', lng='108.86990', name='Warship'),\n",
       " Node('Ship', lng='108.6348', name='Ferry')]"
      ]
     },
     "execution_count": 11,
     "metadata": {},
     "output_type": "execute_result"
    }
   ],
   "source": [
    "node.match(\"Ship\").all()"
   ]
  },
  {
   "cell_type": "code",
   "execution_count": 12,
   "metadata": {},
   "outputs": [
    {
     "data": {
      "text/plain": [
       "[HAVE_LOADS(Node('Ship', lng='108.86990', name='Warship'), Node('Utility', name='Loads', weight='40-50 million tonnage')),\n",
       " HAVE_LOADS(Node('Ship', lng='108.6348', name='Ferry'), Node('Utility', name='Loads', weight='40-50 million tonnage')),\n",
       " SAME_TYPE(Node('Ship', name='Barge'), Node('Ship', name='Container')),\n",
       " NEIGHBOUR_OF(Node('Ship', name='Container'), Node('Ship', name='Barge')),\n",
       " USEFUL_THAN(Node('Ship', lng='108.86990', name='Warship'), Node('Ship', name='Cargo')),\n",
       " HAVE_LOADS(Node('Ship', name='Cargo'), Node('Utility', name='Loads', weight='40-50 million tonnage')),\n",
       " IS_LOAD_OF(Node('Utility', name='Loads', weight='40-50 million tonnage'), Node('Ship', name='Cargo'))]"
      ]
     },
     "execution_count": 12,
     "metadata": {},
     "output_type": "execute_result"
    }
   ],
   "source": [
    "relations.all()"
   ]
  }
 ],
 "metadata": {
  "kernelspec": {
   "display_name": "Python 3",
   "language": "python",
   "name": "python3"
  },
  "language_info": {
   "codemirror_mode": {
    "name": "ipython",
    "version": 3
   },
   "file_extension": ".py",
   "mimetype": "text/x-python",
   "name": "python",
   "nbconvert_exporter": "python",
   "pygments_lexer": "ipython3",
   "version": "3.9.9"
  },
  "orig_nbformat": 4,
  "vscode": {
   "interpreter": {
    "hash": "11938c6bc6919ae2720b4d5011047913343b08a43b18698fd82dedb0d4417594"
   }
  }
 },
 "nbformat": 4,
 "nbformat_minor": 2
}
