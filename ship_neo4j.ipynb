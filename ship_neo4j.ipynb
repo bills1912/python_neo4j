{
 "cells": [
  {
   "cell_type": "code",
   "execution_count": 38,
   "metadata": {},
   "outputs": [],
   "source": [
    "from py2neo import Graph\n",
    "from py2neo.matching import NodeMatcher, RelationshipMatcher, RelationshipMatch"
   ]
  },
  {
   "cell_type": "code",
   "execution_count": 11,
   "metadata": {},
   "outputs": [],
   "source": [
    "graph = Graph(\"bolt://localhost:7687\", auth=(\"neo4j\", \"Billvanzalukhu1905!@\"))\n",
    "tx = graph.begin()"
   ]
  },
  {
   "cell_type": "code",
   "execution_count": 33,
   "metadata": {},
   "outputs": [
    {
     "data": {
      "text/plain": [
       "[Node('Ship', name='Cargo'),\n",
       " Node('Ship', name='Barge'),\n",
       " Node('Ship', name='Container'),\n",
       " Node('Ship', lng='108.86990', name='Warship')]"
      ]
     },
     "execution_count": 33,
     "metadata": {},
     "output_type": "execute_result"
    }
   ],
   "source": [
    "node = NodeMatcher(graph)\n",
    "all_node = node.match(\"Ship\").all()\n",
    "node_withId = node.get(4)\n",
    "\n",
    "all_node"
   ]
  },
  {
   "cell_type": "code",
   "execution_count": 40,
   "metadata": {},
   "outputs": [
    {
     "data": {
      "text/plain": [
       "[HAVE_LOADS(Node('Ship', lng='108.86990', name='Warship'), Node('Utility', name='Loads', weight='40-50 million tonnage')),\n",
       " SAME_TYPE(Node('Ship', name='Barge'), Node('Ship', name='Container')),\n",
       " NEIGHBOUR_OF(Node('Ship', name='Container'), Node('Ship', name='Barge')),\n",
       " USEFUL_THAN(Node('Ship', lng='108.86990', name='Warship'), Node('Ship', name='Cargo')),\n",
       " HAVE_LOADS(Node('Ship', name='Cargo'), Node('Utility', name='Loads', weight='40-50 million tonnage')),\n",
       " IS_LOAD_OF(Node('Utility', name='Loads', weight='40-50 million tonnage'), Node('Ship', name='Cargo'))]"
      ]
     },
     "execution_count": 40,
     "metadata": {},
     "output_type": "execute_result"
    }
   ],
   "source": [
    "relations = RelationshipMatch(graph)\n",
    "relations.all()"
   ]
  },
  {
   "cell_type": "code",
   "execution_count": null,
   "metadata": {},
   "outputs": [],
   "source": []
  }
 ],
 "metadata": {
  "kernelspec": {
   "display_name": "Python 3",
   "language": "python",
   "name": "python3"
  },
  "language_info": {
   "name": "python",
   "version": "3.9.9"
  },
  "orig_nbformat": 4,
  "vscode": {
   "interpreter": {
    "hash": "11938c6bc6919ae2720b4d5011047913343b08a43b18698fd82dedb0d4417594"
   }
  }
 },
 "nbformat": 4,
 "nbformat_minor": 2
}
